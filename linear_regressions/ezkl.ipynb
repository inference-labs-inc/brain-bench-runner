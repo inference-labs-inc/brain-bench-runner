{
    "cells": [
        {
            "cell_type": "markdown",
            "id": "cf69bb3f-94e6-4dba-92cd-ce08df117d67",
            "metadata": {},
            "source": [
                "## Linear Regression\n",
                "\n",
                "\n",
                "Sklearn based models are slightly finicky to get into a suitable onnx format. \n",
                "This notebook showcases how to do so using the `hummingbird-ml` python package ! "
            ]
        },
        {
            "cell_type": "code",
            "execution_count": 8,
            "metadata": {},
            "outputs": [
                {
                    "name": "stdout",
                    "output_type": "stream",
                    "text": [
                        "Requirement already satisfied: ezkl in /Users/ethancemer/Documents/development/ezkl/.env/lib/python3.9/site-packages (7.0.0)\n",
                        "\u001b[33mWARNING: You are using pip version 22.0.4; however, version 23.3.1 is available.\n",
                        "You should consider upgrading via the '/Users/ethancemer/Documents/development/ezkl/.env/bin/python3.9 -m pip install --upgrade pip' command.\u001b[0m\u001b[33m\n",
                        "\u001b[0mCollecting hummingbird.ml\n",
                        "  Using cached hummingbird_ml-0.4.9-py2.py3-none-any.whl (165 kB)\n",
                        "Requirement already satisfied: numpy>=1.15 in /Users/ethancemer/Documents/development/ezkl/.env/lib/python3.9/site-packages (from hummingbird.ml) (1.21.6)\n",
                        "Collecting onnxconverter-common>=1.6.0\n",
                        "  Using cached onnxconverter_common-1.14.0-py2.py3-none-any.whl (84 kB)\n",
                        "Requirement already satisfied: psutil in /Users/ethancemer/Documents/development/ezkl/.env/lib/python3.9/site-packages (from hummingbird.ml) (5.9.6)\n",
                        "Requirement already satisfied: scikit-learn in /Users/ethancemer/Documents/development/ezkl/.env/lib/python3.9/site-packages (from hummingbird.ml) (1.3.2)\n",
                        "Requirement already satisfied: scipy in /Users/ethancemer/Documents/development/ezkl/.env/lib/python3.9/site-packages (from hummingbird.ml) (1.11.4)\n",
                        "Requirement already satisfied: protobuf>=3.20.2 in /Users/ethancemer/Documents/development/ezkl/.env/lib/python3.9/site-packages (from hummingbird.ml) (3.20.3)\n",
                        "Collecting dill\n",
                        "  Using cached dill-0.3.7-py3-none-any.whl (115 kB)\n",
                        "Requirement already satisfied: torch>1.7.0 in /Users/ethancemer/Documents/development/ezkl/.env/lib/python3.9/site-packages (from hummingbird.ml) (2.0.1)\n",
                        "Collecting protobuf>=3.20.2\n",
                        "  Downloading protobuf-3.20.2-py2.py3-none-any.whl (162 kB)\n",
                        "\u001b[2K     \u001b[90m━━━━━━━━━━━━━━━━━━━━━━━━━━━━━━━━━━━━━━━\u001b[0m \u001b[32m162.1/162.1 KB\u001b[0m \u001b[31m2.9 MB/s\u001b[0m eta \u001b[36m0:00:00\u001b[0ma \u001b[36m0:00:01\u001b[0m\n",
                        "\u001b[?25hRequirement already satisfied: onnx in /Users/ethancemer/Documents/development/ezkl/.env/lib/python3.9/site-packages (from onnxconverter-common>=1.6.0->hummingbird.ml) (1.14.1)\n",
                        "Requirement already satisfied: packaging in /Users/ethancemer/Documents/development/ezkl/.env/lib/python3.9/site-packages (from onnxconverter-common>=1.6.0->hummingbird.ml) (23.0)\n",
                        "Requirement already satisfied: typing-extensions in /Users/ethancemer/Documents/development/ezkl/.env/lib/python3.9/site-packages (from torch>1.7.0->hummingbird.ml) (4.5.0)\n",
                        "Requirement already satisfied: sympy in /Users/ethancemer/Documents/development/ezkl/.env/lib/python3.9/site-packages (from torch>1.7.0->hummingbird.ml) (1.12)\n",
                        "Requirement already satisfied: jinja2 in /Users/ethancemer/Documents/development/ezkl/.env/lib/python3.9/site-packages (from torch>1.7.0->hummingbird.ml) (3.1.2)\n",
                        "Requirement already satisfied: networkx in /Users/ethancemer/Documents/development/ezkl/.env/lib/python3.9/site-packages (from torch>1.7.0->hummingbird.ml) (3.2.1)\n",
                        "Requirement already satisfied: filelock in /Users/ethancemer/Documents/development/ezkl/.env/lib/python3.9/site-packages (from torch>1.7.0->hummingbird.ml) (3.13.1)\n",
                        "Requirement already satisfied: joblib>=1.1.1 in /Users/ethancemer/Documents/development/ezkl/.env/lib/python3.9/site-packages (from scikit-learn->hummingbird.ml) (1.3.2)\n",
                        "Requirement already satisfied: threadpoolctl>=2.0.0 in /Users/ethancemer/Documents/development/ezkl/.env/lib/python3.9/site-packages (from scikit-learn->hummingbird.ml) (3.2.0)\n",
                        "Requirement already satisfied: MarkupSafe>=2.0 in /Users/ethancemer/Documents/development/ezkl/.env/lib/python3.9/site-packages (from jinja2->torch>1.7.0->hummingbird.ml) (2.1.3)\n",
                        "Requirement already satisfied: mpmath>=0.19 in /Users/ethancemer/Documents/development/ezkl/.env/lib/python3.9/site-packages (from sympy->torch>1.7.0->hummingbird.ml) (1.3.0)\n",
                        "Installing collected packages: protobuf, dill, onnxconverter-common, hummingbird.ml\n",
                        "  Attempting uninstall: protobuf\n",
                        "    Found existing installation: protobuf 3.20.3\n",
                        "    Uninstalling protobuf-3.20.3:\n",
                        "      Successfully uninstalled protobuf-3.20.3\n",
                        "Successfully installed dill-0.3.7 hummingbird.ml-0.4.9 onnxconverter-common-1.14.0 protobuf-3.20.2\n",
                        "\u001b[33mWARNING: You are using pip version 22.0.4; however, version 23.3.1 is available.\n",
                        "You should consider upgrading via the '/Users/ethancemer/Documents/development/ezkl/.env/bin/python3.9 -m pip install --upgrade pip' command.\u001b[0m\u001b[33m\n",
                        "\u001b[0m"
                    ]
                }
            ],
            "source": [
                "!pip install ezkl\n",
                "!pip install hummingbird.ml"
            ]
        },
        {
            "cell_type": "code",
            "execution_count": 9,
            "id": "95613ee9",
            "metadata": {},
            "outputs": [],
            "source": [
                "# check if notebook is in colab\n",
                "try:\n",
                "    # install ezkl\n",
                "    import google.colab\n",
                "    import subprocess\n",
                "    import sys\n",
                "    subprocess.check_call([sys.executable, \"-m\", \"pip\", \"install\", \"ezkl\"])\n",
                "    subprocess.check_call([sys.executable, \"-m\", \"pip\", \"install\", \"onnx\"])\n",
                "    subprocess.check_call([sys.executable, \"-m\", \"pip\", \"install\", \"hummingbird-ml\"])\n",
                "\n",
                "# rely on local installation of ezkl if the notebook is not in colab\n",
                "except:\n",
                "    pass\n",
                "\n",
                "import os\n",
                "import torch\n",
                "import ezkl\n",
                "import json\n",
                "from hummingbird.ml import convert\n",
                "\n",
                "\n",
                "# here we create and (potentially train a model)\n",
                "\n",
                "# make sure you have the dependencies required here already installed\n",
                "import numpy as np\n",
                "from sklearn.linear_model import LinearRegression\n",
                "X = np.array([[1, 1], [1, 2], [2, 2], [2, 3]])\n",
                "# y = 1 * x_0 + 2 * x_1 + 3\n",
                "y = np.dot(X, np.array([1, 2])) + 3\n",
                "reg = LinearRegression().fit(X, y)\n",
                "reg.score(X, y)\n",
                "\n",
                "circuit = convert(reg, \"torch\", X[:1]).model"
            ]
        },
        {
            "cell_type": "code",
            "execution_count": 11,
            "id": "b37637c4",
            "metadata": {},
            "outputs": [],
            "source": [
                "model_path = os.path.join('network.onnx')\n",
                "compiled_model_path = os.path.join('network.compiled')\n",
                "pk_path = os.path.join('test.pk')\n",
                "vk_path = os.path.join('test.vk')\n",
                "settings_path = os.path.join('settings.json')\n",
                "\n",
                "witness_path = os.path.join('witness.json')\n",
                "data_path = os.path.join('input.json')"
            ]
        },
        {
            "cell_type": "code",
            "execution_count": 16,
            "metadata": {},
            "outputs": [
                {
                    "name": "stdout",
                    "output_type": "stream",
                    "text": [
                        "================ Diagnostic Run torch.onnx.export version 2.0.1 ================\n",
                        "verbose: False, log level: Level.ERROR\n",
                        "======================= 0 NONE 0 NOTE 0 WARNING 0 ERROR ========================\n",
                        "\n"
                    ]
                }
            ],
            "source": [
                "\n",
                "\n",
                "# export to onnx format\n",
                "# !!!!!!!!!!!!!!!!! This will flash a warning but it is fine !!!!!!!!!!!!!!!!!!!!!\n",
                "\n",
                "# Input to the model\n",
                "shape = X.shape[1:]\n",
                "# read in ./input_json\n",
                "data = json.load(open(\"input.json\", 'r'))\n",
                "# convert to torch tensor\n",
                "x = torch.tensor(data['input_data'], requires_grad=True)\n",
                "torch_out = circuit(x)\n",
                "# Export the model\n",
                "torch.onnx.export(circuit,               # model being run\n",
                "                  # model input (or a tuple for multiple inputs)\n",
                "                  x,\n",
                "                  # where to save the model (can be a file or file-like object)\n",
                "                  \"network.onnx\",\n",
                "                  export_params=True,        # store the trained parameter weights inside the model file\n",
                "                  opset_version=10,          # the ONNX version to export the model to\n",
                "                  do_constant_folding=True,  # whether to execute constant folding for optimization\n",
                "                  input_names=['input'],   # the model's input names\n",
                "                  output_names=['output'],  # the model's output names\n",
                "                  dynamic_axes={'input': {0: 'batch_size'},    # variable length axes\n",
                "                                'output': {0: 'batch_size'}})\n",
                "\n",
                "d = ((x).detach().numpy()).reshape([-1]).tolist()"
            ]
        },
        {
            "cell_type": "code",
            "execution_count": null,
            "id": "d5e374a2",
            "metadata": {},
            "outputs": [],
            "source": [
                "!RUST_LOG=trace\n",
                "# TODO: Dictionary outputs\n",
                "res = ezkl.gen_settings(model_path, settings_path)\n",
                "assert res == True\n",
                "\n",
                "res = ezkl.calibrate_settings(data_path, model_path, settings_path, \"resources\")\n",
                "assert res == True"
            ]
        },
        {
            "cell_type": "code",
            "execution_count": null,
            "id": "3aa4f090",
            "metadata": {},
            "outputs": [],
            "source": [
                "res = ezkl.compile_circuit(model_path, compiled_model_path, settings_path)\n",
                "assert res == True"
            ]
        },
        {
            "cell_type": "code",
            "execution_count": null,
            "id": "8b74dcee",
            "metadata": {},
            "outputs": [],
            "source": [
                "# srs path\n",
                "res = ezkl.get_srs(settings_path)"
            ]
        },
        {
            "cell_type": "code",
            "execution_count": null,
            "id": "18c8b7c7",
            "metadata": {},
            "outputs": [],
            "source": [
                "# now generate the witness file \n",
                "\n",
                "res = ezkl.gen_witness(data_path, compiled_model_path, witness_path)\n",
                "assert os.path.isfile(witness_path)"
            ]
        },
        {
            "cell_type": "code",
            "execution_count": null,
            "id": "b1c561a8",
            "metadata": {},
            "outputs": [],
            "source": [
                "\n",
                "# HERE WE SETUP THE CIRCUIT PARAMS\n",
                "# WE GOT KEYS\n",
                "# WE GOT CIRCUIT PARAMETERS\n",
                "# EVERYTHING ANYONE HAS EVER NEEDED FOR ZK\n",
                "\n",
                "\n",
                "\n",
                "res = ezkl.setup(\n",
                "        compiled_model_path,\n",
                "        vk_path,\n",
                "        pk_path,\n",
                "        \n",
                "    )\n",
                "\n",
                "assert res == True\n",
                "assert os.path.isfile(vk_path)\n",
                "assert os.path.isfile(pk_path)\n",
                "assert os.path.isfile(settings_path)"
            ]
        },
        {
            "cell_type": "code",
            "execution_count": null,
            "id": "c384cbc8",
            "metadata": {},
            "outputs": [],
            "source": [
                "# GENERATE A PROOF\n",
                "\n",
                "\n",
                "proof_path = os.path.join('test.pf')\n",
                "\n",
                "res = ezkl.prove(\n",
                "        witness_path,\n",
                "        compiled_model_path,\n",
                "        pk_path,\n",
                "        proof_path,\n",
                "        \n",
                "        \"single\",\n",
                "    )\n",
                "\n",
                "print(res)\n",
                "assert os.path.isfile(proof_path)"
            ]
        },
        {
            "cell_type": "code",
            "execution_count": null,
            "id": "76f00d41",
            "metadata": {},
            "outputs": [],
            "source": [
                "# VERIFY IT\n",
                "\n",
                "res = ezkl.verify(\n",
                "        proof_path,\n",
                "        settings_path,\n",
                "        vk_path,\n",
                "        \n",
                "    )\n",
                "\n",
                "assert res == True\n",
                "print(\"verified\")"
            ]
        }
    ],
    "metadata": {
        "kernelspec": {
            "display_name": "Python 3 (ipykernel)",
            "language": "python",
            "name": "python3"
        },
        "language_info": {
            "codemirror_mode": {
                "name": "ipython",
                "version": 3
            },
            "file_extension": ".py",
            "mimetype": "text/x-python",
            "name": "python",
            "nbconvert_exporter": "python",
            "pygments_lexer": "ipython3",
            "version": "3.9.13"
        }
    },
    "nbformat": 4,
    "nbformat_minor": 5
}
