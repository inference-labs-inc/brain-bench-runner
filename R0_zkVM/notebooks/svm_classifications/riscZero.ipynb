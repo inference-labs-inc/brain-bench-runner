{
 "cells": [
  {
   "cell_type": "markdown",
   "id": "2f44351f",
   "metadata": {},
   "source": [
    "# Logistic Classification example"
   ]
  },
  {
   "cell_type": "code",
   "execution_count": 19,
   "id": "7f37987a",
   "metadata": {
    "vscode": {
     "languageId": "rust"
    }
   },
   "outputs": [],
   "source": [
    "// cargo install the newest version\n",
    "// this may take a while, needs to download and install the library\n",
    ":dep smartcore = { version = \"0.3.2\", features = [\"serde\"] }\n",
    ":dep serde_json = \"1.0\"\n",
    ":dep rmp-serde = \"1.1.2\""
   ]
  },
  {
   "cell_type": "code",
   "execution_count": 20,
   "id": "61d9e352",
   "metadata": {
    "vscode": {
     "languageId": "rust"
    }
   },
   "outputs": [],
   "source": [
    "use smartcore::linalg::basic::matrix::DenseMatrix;\n",
    "use serde_json;\n",
    "use rmp_serde;\n",
    "// Model performance\n",
    "use smartcore::metrics::{accuracy, mean_squared_error};\n",
    "\n",
    "use smartcore::svm::Kernels;\n",
    "use smartcore::svm::svc::*;\n",
    "use std::fs::File;\n",
    "use std::io::{Read, Write};"
   ]
  },
  {
   "cell_type": "markdown",
   "id": "463aeafb",
   "metadata": {},
   "source": [
    "## basic prediction and accuracy"
   ]
  },
  {
   "cell_type": "code",
   "execution_count": 21,
   "id": "5170a9bc",
   "metadata": {
    "vscode": {
     "languageId": "rust"
    }
   },
   "outputs": [],
   "source": [
    "let x = DenseMatrix::from_2d_array(&[\n",
    "    &[5.1, 3.5, 1.4, 0.2],\n",
    "    &[4.9, 3.0, 1.4, 0.2],\n",
    "    &[4.7, 3.2, 1.3, 0.2],\n",
    "    &[4.6, 3.1, 1.5, 0.2],\n",
    "    &[5.0, 3.6, 1.4, 0.2],\n",
    "    &[5.4, 3.9, 1.7, 0.4],\n",
    "    &[4.6, 3.4, 1.4, 0.3],\n",
    "    &[5.0, 3.4, 1.5, 0.2],\n",
    "    &[4.4, 2.9, 1.4, 0.2],\n",
    "    &[4.9, 3.1, 1.5, 0.1],\n",
    "    &[7.0, 3.2, 4.7, 1.4],\n",
    "    &[6.4, 3.2, 4.5, 1.5],\n",
    "    &[6.9, 3.1, 4.9, 1.5],\n",
    "    &[5.5, 2.3, 4.0, 1.3],\n",
    "    &[6.5, 2.8, 4.6, 1.5],\n",
    "    &[5.7, 2.8, 4.5, 1.3],\n",
    "    &[6.3, 3.3, 4.7, 1.6],\n",
    "    &[4.9, 2.4, 3.3, 1.0],\n",
    "    &[6.6, 2.9, 4.6, 1.3],\n",
    "    &[5.2, 2.7, 3.9, 1.4],\n",
    "]);\n",
    "\n",
    "let y: Vec<i32> = vec![\n",
    "    -1, -1, -1, -1, -1, -1, -1, -1, -1, -1, 1, 1, 1, 1, 1, 1, 1, 1, 1, 1,\n",
    "];"
   ]
  },
  {
   "cell_type": "code",
   "execution_count": 24,
   "id": "31dc6b9d",
   "metadata": {
    "vscode": {
     "languageId": "rust"
    }
   },
   "outputs": [
    {
     "name": "stdout",
     "output_type": "stream",
     "text": [
      "SVC { classes: Some([-1, 1]), instances: Some([[4.9, 2.4, 3.3, 1.0], [4.4, 2.9, 1.4, 0.2], [7.0, 3.2, 4.7, 1.4], [5.5, 2.3, 4.0, 1.3], [6.9, 3.1, 4.9, 1.5], [5.4, 3.9, 1.7, 0.4], [5.7, 2.8, 4.5, 1.3], [6.3, 3.3, 4.7, 1.6]]), parameters: Some(SVCParameters { epoch: 2, c: 1.0, tol: 0.001, kernel: Some(RBFKernel { gamma: Some(0.7) }), m: PhantomData<(smartcore::linalg::basic::matrix::DenseMatrix<f64>, alloc::vec::Vec<i32>, i32)>, seed: None }), w: Some([0.7330568313232404, -0.9886291197226762, 0.4983642540817094, 0.1369267334839056, 0.12914908421939392, -0.9760276163690054, 0.3306627164164916, 0.13649711656694088]), b: Some(0.18156339068191985), phantomdata: PhantomData<(smartcore::linalg::basic::matrix::DenseMatrix<f64>, alloc::vec::Vec<i32>)> }\n",
      "[-1.0, -1.0, -1.0, -1.0, -1.0, -1.0, -1.0, -1.0, -1.0, -1.0, 1.0, 1.0, 1.0, 1.0, 1.0, 1.0, 1.0, 1.0, 1.0, 1.0]\n"
     ]
    },
    {
     "name": "stderr",
     "output_type": "stream",
     "text": [
      "thread '<unnamed>' panicked at 'unable to create file: Os { code: 2, kind: NotFound, message: \"No such file or directory\" }', src/lib.rs:166:88\n",
      "stack backtrace:\n",
      "   0: _rust_begin_unwind\n",
      "   1: core::panicking::panic_fmt\n",
      "   2: core::result::unwrap_failed\n",
      "   3: <unknown>\n",
      "   4: <unknown>\n",
      "   5: evcxr::runtime::Runtime::run_loop\n",
      "   6: evcxr::runtime::runtime_hook\n",
      "   7: evcxr_jupyter::main\n",
      "note: Some details are omitted, run with `RUST_BACKTRACE=full` for a verbose backtrace.\n"
     ]
    }
   ],
   "source": [
    "{\n",
    "    let params = SVCParameters::default()\n",
    "        .with_c(1.0)\n",
    "        .with_kernel(Kernels::rbf().with_gamma(0.7));\n",
    "\n",
    "    let model = SVC::fit(\n",
    "        &x,\n",
    "        &y,\n",
    "        &params,\n",
    "    ).unwrap();\n",
    "\n",
    "    // print the type of the model\n",
    "\n",
    "    let y_hat = model.predict(&x).unwrap();\n",
    "\n",
    "    println!(\"{:?}\", &y_hat);\n",
    "\n",
    "    let model_bytes = rmp_serde::to_vec(&model).unwrap();\n",
    "    let data_bytes = rmp_serde::to_vec(&x).unwrap();\n",
    "    \n",
    "    let model_json = serde_json::to_string(&model_bytes)?;\n",
    "    let x_json = serde_json::to_string(&data_bytes)?;\n",
    "    \n",
    "    let mut f = File::create(\"../../res/ml-model/svm_classification_model_bytes.json\").expect(\"unable to create file\");\n",
    "    f.write_all(model_json.as_bytes()).expect(\"Unable to write data\");\n",
    "    \n",
    "    let mut f1 = File::create(\"../../res/input-data/svm_classification_data_bytes.json\").expect(\"unable to create file\");\n",
    "    f1.write_all(x_json.as_bytes()).expect(\"Unable to write data\");\n",
    "}\n"
   ]
  }
 ],
 "metadata": {
  "kernelspec": {
   "display_name": "Rust",
   "language": "rust",
   "name": "rust"
  },
  "language_info": {
   "codemirror_mode": "rust",
   "file_extension": ".rs",
   "mimetype": "text/rust",
   "name": "Rust",
   "pygment_lexer": "rust",
   "version": ""
  }
 },
 "nbformat": 4,
 "nbformat_minor": 5
}
