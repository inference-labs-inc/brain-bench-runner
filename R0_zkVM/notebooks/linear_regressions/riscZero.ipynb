{
    "cells": [
        {
            "cell_type": "markdown",
            "id": "d764f850",
            "metadata": {},
            "source": [
                "Copyright 2023 RISC Zero, Inc.\n",
                "\n",
                " Licensed under the Apache License, Version 2.0 (the \"License\");\n",
                "you may not use this file except in compliance with the License.\n",
                "You may obtain a copy of the License at\n",
                "\n",
                "    http://www.apache.org/licenses/LICENSE-2.0\n",
                "\n",
                " Unless required by applicable law or agreed to in writing, software\n",
                " distributed under the License is distributed on an \"AS IS\" BASIS,\n",
                " WITHOUT WARRANTIES OR CONDITIONS OF ANY KIND, either express or implied.\n",
                " See the License for the specific language governing permissions and\n",
                " limitations under the License."
            ]
        },
        {
            "cell_type": "markdown",
            "id": "84ca40bd-02b8-4662-9ced-676b54962ae3",
            "metadata": {},
            "source": [
                "The following notebook is meant to serve as a guide for training classifiers and regression models using the SmartCore crate.  Prior to training the classifier in Rust, the data should be processed in Python.  The data and classes should be exported as seperate CSV files.\n",
                "\n",
                "Start by importing the Smartcore and Polars crates as dependencies.  Outside of a jupyter notebook environment, you can add these to your cargo.toml file or use cargo add \"CRATE-NAME\" in the command line.\n",
                "\n",
                "Be sure to include serde as a feature for the smartcore crate, otherwise the Smartcore CSV readers will not work."
            ]
        },
        {
            "cell_type": "code",
            "execution_count": null,
            "id": "c7c3dabf-0d74-4e36-bacb-ae7c0c8b8ea2",
            "metadata": {
                "vscode": {
                    "languageId": "rust"
                }
            },
            "outputs": [],
            "source": [
                ":dep smartcore = {version = \"0.3.2\", features = [\"serde\"]}\n",
                ":dep polars = \"*\"\n",
                ":dep serde_json = \"1.0\"\n",
                ":dep rmp-serde = \"1.1.2\"\n",
                ":dep ndarray = \"0.15\""
            ]
        },
        {
            "cell_type": "code",
            "execution_count": null,
            "id": "63ed67bf-e3cf-4f08-b253-b155f9d6f865",
            "metadata": {
                "vscode": {
                    "languageId": "rust"
                }
            },
            "outputs": [],
            "source": [
                "use smartcore::tree::decision_tree_classifier::*;\n",
                "use smartcore::readers;\n",
                "use smartcore::linalg::basic::matrix::DenseMatrix;\n",
                "use smartcore::linear::linear_regression::LinearRegression;\n",
                "use serde_json::{self, Value};\n",
                "use ndarray::array;\n",
                "\n",
                "use std::fs::File;\n",
                "use std::io::{Read, Write};\n",
                "use polars::prelude::*;\n",
                "use serde_json;\n",
                "use rmp_serde;"
            ]
        },
        {
            "cell_type": "markdown",
            "id": "1e6b128a-2dd2-4f8c-9154-c95fe564a0b6",
            "metadata": {},
            "source": [
                "We train the model using the same data used the `ezkl.ipynb` notebook.  "
            ]
        },
        {
            "cell_type": "code",
            "execution_count": null,
            "id": "46606515-f2c7-4576-8b66-b2bc1aa379f8",
            "metadata": {
                "vscode": {
                    "languageId": "rust"
                }
            },
            "outputs": [],
            "source": [
                "// Example data\n",
                "let x = DenseMatrix::from_2d_array(&[\n",
                "    &[1.0, 1.0],\n",
                "    &[1.0, 2.0],\n",
                "    &[2.0, 2.0],\n",
                "    &[2.0, 3.0],\n",
                "]);\n",
                "let y = array![6, 8, 9, 11];\n",
                "\n",
                "let y_vec_i64: Vec<i64> = y.to_vec();\n",
                "\n",
                "let y_vec_u32: Vec<u32> = y_vec_i64.iter().map(|x| *x as u32).collect();\n",
                "\n",
                "// Train the model\n",
                "let lr = LinearRegression::fit(&x, &y_vec_u32, Default::default()).unwrap();"
            ]
        },
        {
            "cell_type": "code",
            "execution_count": null,
            "id": "e366558a",
            "metadata": {
                "vscode": {
                    "languageId": "rust"
                }
            },
            "outputs": [],
            "source": [
                "y_vec_u32"
            ]
        },
        {
            "cell_type": "markdown",
            "id": "8567b9bc",
            "metadata": {},
            "source": [
                "Read in input data"
            ]
        },
        {
            "cell_type": "code",
            "execution_count": null,
            "id": "3d0a5ae1-feb8-439e-8f91-909f3bcf05ef",
            "metadata": {
                "vscode": {
                    "languageId": "rust"
                }
            },
            "outputs": [],
            "source": [
                "// Read the JSON data\n",
                "let mut file = File::open(\"./input.json\").expect(\"file not found\");\n",
                "let mut contents = String::new();\n",
                "file.read_to_string(&mut contents).expect(\"something went wrong reading the file\");\n",
                "let v: Value = serde_json::from_str(&contents)?;\n",
                "\n",
                "// Extract input data and output data from JSON\n",
                "let input_data = v[\"input_data\"].as_array().unwrap();\n",
                "\n",
                "// Get the first array from input_data, clone the data to avoid borrowing issues\n",
                "let input_data: Vec<f64> = input_data.get(0)\n",
                "    .unwrap()\n",
                "    .as_array()\n",
                "    .unwrap()\n",
                "    .iter()\n",
                "    .map(|x| x.as_f64().unwrap())\n",
                "    .collect();\n",
                "\n",
                "// Format the input data for the model\n",
                "let x = DenseMatrix::from_2d_array(&[&input_data]);"
            ]
        },
        {
            "cell_type": "markdown",
            "id": "19a2cf3a",
            "metadata": {},
            "source": [
                "We call predict() on the model in order to perform inference."
            ]
        },
        {
            "cell_type": "code",
            "execution_count": null,
            "id": "e6bd2dec-b2af-40fb-81cd-5a89addb8d97",
            "metadata": {
                "vscode": {
                    "languageId": "rust"
                }
            },
            "outputs": [],
            "source": [
                "lr.predict(&x).unwrap()"
            ]
        },
        {
            "cell_type": "markdown",
            "id": "3a6f6d68",
            "metadata": {},
            "source": [
                "The code below let's you export the trained model and the input data as serialized JSON files which can be imported into the host.\n",
                "\n",
                "For use in the ZKVM, serializing the model and input data as a byte array is ideal.  The code below exports the trained model and input data as byte arrays in JSON files."
            ]
        },
        {
            "cell_type": "code",
            "execution_count": null,
            "id": "d992fc8c-df41-4b20-8076-1d2ce8221665",
            "metadata": {
                "vscode": {
                    "languageId": "rust"
                }
            },
            "outputs": [],
            "source": [
                "let model_bytes = rmp_serde::to_vec(&lr).unwrap();\n",
                "let data_bytes = rmp_serde::to_vec(&x).unwrap();\n",
                "\n",
                "let model_json = serde_json::to_string(&model_bytes)?;\n",
                "let x_json = serde_json::to_string(&data_bytes)?;\n",
                "\n",
                "let mut f = File::create(\"tree_model_bytes.json\").expect(\"unable to create file\");\n",
                "f.write_all(model_json.as_bytes()).expect(\"Unable to write data\");\n",
                "\n",
                "let mut f1 = File::create(\"tree_model_data_bytes.json\").expect(\"unable to create file\");\n",
                "f1.write_all(x_json.as_bytes()).expect(\"Unable to write data\");"
            ]
        }
    ],
    "metadata": {
        "kernelspec": {
            "display_name": "Rust",
            "language": "rust",
            "name": "rust"
        },
        "language_info": {
            "codemirror_mode": "rust",
            "file_extension": ".rs",
            "mimetype": "text/rust",
            "name": "Rust",
            "pygment_lexer": "rust",
            "version": ""
        }
    },
    "nbformat": 4,
    "nbformat_minor": 5
}
