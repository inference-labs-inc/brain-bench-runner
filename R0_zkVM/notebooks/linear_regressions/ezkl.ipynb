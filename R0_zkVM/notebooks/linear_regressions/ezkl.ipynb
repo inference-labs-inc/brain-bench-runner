{
    "cells": [
        {
            "cell_type": "markdown",
            "id": "cf69bb3f-94e6-4dba-92cd-ce08df117d67",
            "metadata": {},
            "source": [
                "## Linear Regression\n",
                "\n",
                "\n",
                "Sklearn based models are slightly finicky to get into a suitable onnx format. \n",
                "This notebook showcases how to do so using the `hummingbird-ml` python package ! "
            ]
        },
        {
            "cell_type": "code",
            "execution_count": 26,
            "metadata": {},
            "outputs": [
                {
                    "name": "stdout",
                    "output_type": "stream",
                    "text": [
                        "Requirement already satisfied: ezkl in /Users/ethancemer/Documents/development/ezkl/.env/lib/python3.9/site-packages (7.0.0)\n",
                        "\u001b[33mWARNING: You are using pip version 22.0.4; however, version 23.3.1 is available.\n",
                        "You should consider upgrading via the '/Users/ethancemer/Documents/development/ezkl/.env/bin/python3.9 -m pip install --upgrade pip' command.\u001b[0m\u001b[33m\n",
                        "\u001b[0mRequirement already satisfied: hummingbird.ml in /Users/ethancemer/Documents/development/ezkl/.env/lib/python3.9/site-packages (0.4.9)\n",
                        "Requirement already satisfied: protobuf>=3.20.2 in /Users/ethancemer/Documents/development/ezkl/.env/lib/python3.9/site-packages (from hummingbird.ml) (3.20.2)\n",
                        "Requirement already satisfied: numpy>=1.15 in /Users/ethancemer/Documents/development/ezkl/.env/lib/python3.9/site-packages (from hummingbird.ml) (1.21.6)\n",
                        "Requirement already satisfied: scikit-learn in /Users/ethancemer/Documents/development/ezkl/.env/lib/python3.9/site-packages (from hummingbird.ml) (1.3.2)\n",
                        "Requirement already satisfied: onnxconverter-common>=1.6.0 in /Users/ethancemer/Documents/development/ezkl/.env/lib/python3.9/site-packages (from hummingbird.ml) (1.14.0)\n",
                        "Requirement already satisfied: psutil in /Users/ethancemer/Documents/development/ezkl/.env/lib/python3.9/site-packages (from hummingbird.ml) (5.9.6)\n",
                        "Requirement already satisfied: scipy in /Users/ethancemer/Documents/development/ezkl/.env/lib/python3.9/site-packages (from hummingbird.ml) (1.11.4)\n",
                        "Requirement already satisfied: dill in /Users/ethancemer/Documents/development/ezkl/.env/lib/python3.9/site-packages (from hummingbird.ml) (0.3.7)\n",
                        "Requirement already satisfied: torch>1.7.0 in /Users/ethancemer/Documents/development/ezkl/.env/lib/python3.9/site-packages (from hummingbird.ml) (2.0.1)\n",
                        "Requirement already satisfied: onnx in /Users/ethancemer/Documents/development/ezkl/.env/lib/python3.9/site-packages (from onnxconverter-common>=1.6.0->hummingbird.ml) (1.14.1)\n",
                        "Requirement already satisfied: packaging in /Users/ethancemer/Documents/development/ezkl/.env/lib/python3.9/site-packages (from onnxconverter-common>=1.6.0->hummingbird.ml) (23.0)\n",
                        "Requirement already satisfied: sympy in /Users/ethancemer/Documents/development/ezkl/.env/lib/python3.9/site-packages (from torch>1.7.0->hummingbird.ml) (1.12)\n",
                        "Requirement already satisfied: filelock in /Users/ethancemer/Documents/development/ezkl/.env/lib/python3.9/site-packages (from torch>1.7.0->hummingbird.ml) (3.13.1)\n",
                        "Requirement already satisfied: jinja2 in /Users/ethancemer/Documents/development/ezkl/.env/lib/python3.9/site-packages (from torch>1.7.0->hummingbird.ml) (3.1.2)\n",
                        "Requirement already satisfied: typing-extensions in /Users/ethancemer/Documents/development/ezkl/.env/lib/python3.9/site-packages (from torch>1.7.0->hummingbird.ml) (4.5.0)\n",
                        "Requirement already satisfied: networkx in /Users/ethancemer/Documents/development/ezkl/.env/lib/python3.9/site-packages (from torch>1.7.0->hummingbird.ml) (3.2.1)\n",
                        "Requirement already satisfied: joblib>=1.1.1 in /Users/ethancemer/Documents/development/ezkl/.env/lib/python3.9/site-packages (from scikit-learn->hummingbird.ml) (1.3.2)\n",
                        "Requirement already satisfied: threadpoolctl>=2.0.0 in /Users/ethancemer/Documents/development/ezkl/.env/lib/python3.9/site-packages (from scikit-learn->hummingbird.ml) (3.2.0)\n",
                        "Requirement already satisfied: MarkupSafe>=2.0 in /Users/ethancemer/Documents/development/ezkl/.env/lib/python3.9/site-packages (from jinja2->torch>1.7.0->hummingbird.ml) (2.1.3)\n",
                        "Requirement already satisfied: mpmath>=0.19 in /Users/ethancemer/Documents/development/ezkl/.env/lib/python3.9/site-packages (from sympy->torch>1.7.0->hummingbird.ml) (1.3.0)\n",
                        "\u001b[33mWARNING: You are using pip version 22.0.4; however, version 23.3.1 is available.\n",
                        "You should consider upgrading via the '/Users/ethancemer/Documents/development/ezkl/.env/bin/python3.9 -m pip install --upgrade pip' command.\u001b[0m\u001b[33m\n",
                        "\u001b[0m"
                    ]
                }
            ],
            "source": [
                "!pip install ezkl\n",
                "!pip install hummingbird.ml\n",
                "!pip install onnx"
            ]
        },
        {
            "cell_type": "code",
            "execution_count": 1,
            "id": "95613ee9",
            "metadata": {},
            "outputs": [],
            "source": [
                "# check if notebook is in colab\n",
                "try:\n",
                "    # install ezkl\n",
                "    import google.colab\n",
                "    import subprocess\n",
                "    import sys\n",
                "    subprocess.check_call([sys.executable, \"-m\", \"pip\", \"install\", \"ezkl\"])\n",
                "    subprocess.check_call([sys.executable, \"-m\", \"pip\", \"install\", \"onnx\"])\n",
                "    subprocess.check_call([sys.executable, \"-m\", \"pip\", \"install\", \"hummingbird-ml\"])\n",
                "\n",
                "# rely on local installation of ezkl if the notebook is not in colab\n",
                "except:\n",
                "    pass\n",
                "\n",
                "import os\n",
                "import torch\n",
                "import ezkl\n",
                "import json\n",
                "from hummingbird.ml import convert\n",
                "\n",
                "\n",
                "# here we create and (potentially train a model)\n",
                "\n",
                "# make sure you have the dependencies required here already installed\n",
                "import numpy as np\n",
                "from sklearn.linear_model import LinearRegression\n",
                "X = np.array([[1, 1], [1, 2], [2, 2], [2, 3]])\n",
                "# y = 1 * x_0 + 2 * x_1 + 3\n",
                "y = np.dot(X, np.array([1, 2])) + 3\n",
                "reg = LinearRegression().fit(X, y)\n",
                "reg.score(X, y)\n",
                "\n",
                "circuit = convert(reg, \"torch\", X[:1]).model"
            ]
        },
        {
            "cell_type": "code",
            "execution_count": 2,
            "id": "b37637c4",
            "metadata": {},
            "outputs": [],
            "source": [
                "model_path = os.path.join('network.onnx')\n",
                "compiled_model_path = os.path.join('network.compiled')\n",
                "pk_path = os.path.join('test.pk')\n",
                "vk_path = os.path.join('test.vk')\n",
                "settings_path = os.path.join('settings.json')\n",
                "\n",
                "witness_path = os.path.join('witness.json')\n",
                "data_path = os.path.join('input.json')"
            ]
        },
        {
            "cell_type": "code",
            "execution_count": 3,
            "metadata": {},
            "outputs": [
                {
                    "name": "stdout",
                    "output_type": "stream",
                    "text": [
                        "================ Diagnostic Run torch.onnx.export version 2.0.1 ================\n",
                        "verbose: False, log level: Level.ERROR\n",
                        "======================= 0 NONE 0 NOTE 0 WARNING 0 ERROR ========================\n",
                        "\n"
                    ]
                }
            ],
            "source": [
                "\n",
                "\n",
                "# export to onnx format\n",
                "# !!!!!!!!!!!!!!!!! This will flash a warning but it is fine !!!!!!!!!!!!!!!!!!!!!\n",
                "\n",
                "# Input to the model\n",
                "shape = X.shape[1:]\n",
                "# read in ./input_json\n",
                "data = json.load(open(\"input.json\", 'r'))\n",
                "# convert to torch tensor\n",
                "x = torch.tensor(data['input_data'], requires_grad=True)\n",
                "torch_out = circuit(x)\n",
                "# Export the model\n",
                "torch.onnx.export(circuit,               # model being run\n",
                "                  # model input (or a tuple for multiple inputs)\n",
                "                  x,\n",
                "                  # where to save the model (can be a file or file-like object)\n",
                "                  \"network.onnx\",\n",
                "                  export_params=True,        # store the trained parameter weights inside the model file\n",
                "                  opset_version=10,          # the ONNX version to export the model to\n",
                "                  do_constant_folding=True,  # whether to execute constant folding for optimization\n",
                "                  input_names=['input'],   # the model's input names\n",
                "                  output_names=['output'],  # the model's output names\n",
                "                  dynamic_axes={'input': {0: 'batch_size'},    # variable length axes\n",
                "                                'output': {0: 'batch_size'}})\n",
                "\n",
                "d = ((x).detach().numpy()).reshape([-1]).tolist()"
            ]
        },
        {
            "cell_type": "code",
            "execution_count": 4,
            "id": "d5e374a2",
            "metadata": {},
            "outputs": [],
            "source": [
                "!RUST_LOG=trace\n",
                "# TODO: Dictionary outputs\n",
                "res = ezkl.gen_settings(model_path, settings_path)\n",
                "assert res == True\n",
                "\n",
                "res = ezkl.calibrate_settings(data_path, model_path, settings_path, \"resources\")\n",
                "assert res == True"
            ]
        },
        {
            "cell_type": "code",
            "execution_count": 6,
            "id": "3aa4f090",
            "metadata": {},
            "outputs": [],
            "source": [
                "res = ezkl.compile_circuit(model_path, compiled_model_path, settings_path)\n",
                "assert res == True"
            ]
        },
        {
            "cell_type": "code",
            "execution_count": 7,
            "id": "8b74dcee",
            "metadata": {},
            "outputs": [],
            "source": [
                "# srs path\n",
                "res = ezkl.get_srs(settings_path)"
            ]
        },
        {
            "cell_type": "code",
            "execution_count": 8,
            "id": "18c8b7c7",
            "metadata": {},
            "outputs": [],
            "source": [
                "# now generate the witness file \n",
                "\n",
                "res = ezkl.gen_witness(data_path, compiled_model_path, witness_path)\n",
                "assert os.path.isfile(witness_path)"
            ]
        },
        {
            "cell_type": "code",
            "execution_count": 9,
            "id": "b1c561a8",
            "metadata": {},
            "outputs": [
                {
                    "name": "stderr",
                    "output_type": "stream",
                    "text": [
                        "spawning module 2\n",
                        "spawning module 2\n"
                    ]
                }
            ],
            "source": [
                "\n",
                "# HERE WE SETUP THE CIRCUIT PARAMS\n",
                "# WE GOT KEYS\n",
                "# WE GOT CIRCUIT PARAMETERS\n",
                "# EVERYTHING ANYONE HAS EVER NEEDED FOR ZK\n",
                "\n",
                "\n",
                "\n",
                "res = ezkl.setup(\n",
                "        compiled_model_path,\n",
                "        vk_path,\n",
                "        pk_path,\n",
                "        \n",
                "    )\n",
                "\n",
                "assert res == True\n",
                "assert os.path.isfile(vk_path)\n",
                "assert os.path.isfile(pk_path)\n",
                "assert os.path.isfile(settings_path)"
            ]
        },
        {
            "cell_type": "code",
            "execution_count": 25,
            "id": "c384cbc8",
            "metadata": {},
            "outputs": [
                {
                    "name": "stderr",
                    "output_type": "stream",
                    "text": [
                        "spawning module 2\n"
                    ]
                },
                {
                    "name": "stdout",
                    "output_type": "stream",
                    "text": [
                        "PROOF GENERATION TIME:  0.03862285614013672\n",
                        "{'instances': [[[8514802640502574666, 4537455015751700300, 13297884588498018886, 498217386297169707]]], 'proof': '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', 'transcript_type': 'EVM'}\n",
                        "3.458984375\n",
                        "[[[8514802640502574666, 4537455015751700300, 13297884588498018886, 498217386297169707]]]\n"
                    ]
                }
            ],
            "source": [
                "# GENERATE A PROOF\n",
                "import time\n",
                "\n",
                "\n",
                "proof_path = os.path.join('test.pf')\n",
                "# log time it takes to generate proof\n",
                "start = time.time()\n",
                "res = ezkl.prove(\n",
                "        witness_path,\n",
                "        compiled_model_path,\n",
                "        pk_path,\n",
                "        proof_path,\n",
                "        \"single\",\n",
                "    )\n",
                "end = time.time()\n",
                "print(\"PROOF GENERATION TIME: \", end - start)\n",
                "\n",
                "print(res)\n",
                "print(res['instances'])\n",
                "assert os.path.isfile(proof_path)"
            ]
        },
        {
            "cell_type": "code",
            "execution_count": null,
            "id": "0b0562bd",
            "metadata": {},
            "outputs": [],
            "source": []
        },
        {
            "cell_type": "code",
            "execution_count": null,
            "id": "76f00d41",
            "metadata": {},
            "outputs": [],
            "source": [
                "# VERIFY IT\n",
                "\n",
                "res = ezkl.verify(\n",
                "        proof_path,\n",
                "        settings_path,\n",
                "        vk_path,\n",
                "        \n",
                "    )\n",
                "\n",
                "assert res == True\n",
                "print(\"verified\")"
            ]
        }
    ],
    "metadata": {
        "kernelspec": {
            "display_name": "Python 3 (ipykernel)",
            "language": "python",
            "name": "python3"
        },
        "language_info": {
            "codemirror_mode": {
                "name": "ipython",
                "version": 3
            },
            "file_extension": ".py",
            "mimetype": "text/x-python",
            "name": "python",
            "nbconvert_exporter": "python",
            "pygments_lexer": "ipython3",
            "version": "3.9.13"
        }
    },
    "nbformat": 4,
    "nbformat_minor": 5
}
