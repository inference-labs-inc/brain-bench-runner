{
 "cells": [
  {
   "cell_type": "markdown",
   "metadata": {},
   "source": [
    "# Linear Regression with ZKML\n"
   ]
  },
  {
   "cell_type": "markdown",
   "metadata": {},
   "source": [
    "## Create and export model via Torch -> ONNX -> TFLite"
   ]
  },
  {
   "cell_type": "code",
   "execution_count": null,
   "metadata": {},
   "outputs": [],
   "source": [
    "# check if notebook is in colab\n",
    "try:\n",
    "    import google.colab\n",
    "    import subprocess\n",
    "    import sys\n",
    "    subprocess.check_call([sys.executable, \"-m\", \"pip\", \"install\", \"onnx\"])\n",
    "    subprocess.check_call([sys.executable, \"-m\", \"pip\", \"install\", \"hummingbird-ml\"])\n",
    "\n",
    "\n",
    "# rely on local installation of ezkl if the notebook is not in colab\n",
    "except:\n",
    "    pass\n",
    "\n",
    "import tensorflow as tf\n",
    "import torch\n",
    "import onnx\n",
    "import os\n",
    "import sys\n",
    "from onnx_tf.backend import prepare\n",
    "from hummingbird.ml import convert\n",
    "import numpy as np\n",
    "from sklearn.linear_model import LinearRegression\n",
    "sys.path.insert(0, \"../..\")\n",
    "from zkml.python.converter import Converter\n",
    "import pathlib\n",
    "\n",
    "TFLITE_PATH = os.path.join(os.getcwd(), \"linear_regression_model.tflite\")\n",
    "OUT_MODEL_PATH= os.path.join(os.getcwd(), \"linear_regression_model.msgpack\")\n",
    "OUT_CONFIG_PATH= os.path.join(os.getcwd(), \"linear_regression_model.json\")\n",
    "OUT_INPUT_NPY_PATH= os.path.join(os.getcwd(), \"linear_regression_model_input.npy\")\n",
    "OUT_INPUT_MSG_PATH = os.path.join(os.getcwd(), \"linear_regression_model_input.msgpack\")\n",
    "INPUT_CONVERTER_PATH = os.path.join(os.getcwd(), \"../../src/zkml/python/input_converter.py\")\n",
    "TIME_CIRCUIT_PATH= os.path.join(os.getcwd(), \"../../src/zkml/target/release/time_circuit\")\n",
    "\n",
    "x = [-1, 0, 1, 2, 3, 4]\n",
    "y = [-3, -1, 1, 3, 5, 7]\n",
    "\n",
    "\n",
    "model = tf.keras.Sequential([\n",
    "    tf.keras.layers.Input(shape=(1,)),\n",
    "    tf.keras.layers.Dense(1)\n",
    "])\n",
    "model.compile(optimizer=\"sgd\", loss=\"mean_squared_error\")\n",
    "model.fit(x, y, epochs=200, verbose=1)\n",
    "tf.saved_model.save(model, \"linear_regression_tf\")\n",
    "converter = tf.lite.TFLiteConverter.from_saved_model(\"linear_regression_tf\")\n",
    "tflite_model = converter.convert()\n",
    "tflite_model_file = pathlib.Path(TFLITE_PATH)\n",
    "tflite_model_file.write_bytes(tflite_model)\n"
   ]
  },
  {
   "cell_type": "markdown",
   "metadata": {},
   "source": [
    "## Convert model to msgpack using ZKML"
   ]
  },
  {
   "cell_type": "code",
   "execution_count": null,
   "metadata": {},
   "outputs": [],
   "source": [
    "converter = Converter(model_path=TFLITE_PATH, expose_output=False, commit=False, scale_factor=7, k=6, num_cols=2, num_randoms=64, use_selectors=True)\n",
    "\n",
    "model_packed, config_packed = converter.to_msgpack(\n",
    "  start_layer=0,\n",
    "  end_layer=10000,\n",
    ")\n",
    "if model_packed is None:\n",
    "  raise Exception('Failed to convert model')\n",
    "with open(OUT_MODEL_PATH, 'wb') as f:\n",
    "  f.write(model_packed)\n",
    "with open(OUT_CONFIG_PATH, 'wb') as f:\n",
    "  f.write(config_packed)"
   ]
  },
  {
   "cell_type": "markdown",
   "metadata": {},
   "source": [
    "## Create msgpack from input"
   ]
  },
  {
   "cell_type": "code",
   "execution_count": null,
   "metadata": {},
   "outputs": [],
   "source": [
    "with open (OUT_INPUT_NPY_PATH, 'wb') as f:\n",
    "    np.save(f, np.array(x[0]).reshape(-1, 1))\n",
    "\n",
    "!python {INPUT_CONVERTER_PATH} --model_config {OUT_MODEL_PATH} --inputs {OUT_INPUT_NPY_PATH} --output {OUT_INPUT_MSG_PATH}\n"
   ]
  },
  {
   "cell_type": "markdown",
   "metadata": {},
   "source": [
    "## Generate the proof"
   ]
  },
  {
   "cell_type": "code",
   "execution_count": null,
   "metadata": {},
   "outputs": [],
   "source": [
    "#!../../src/zkml/target/release/time_circuit {OUT_MODEL_PATH} {OUT_INPUT_MSG_PATH} kzg\n",
    "!../../src/zkml/target/release/test_circuit {OUT_MODEL_PATH} {OUT_INPUT_MSG_PATH} kzg\n"
   ]
  }
 ],
 "metadata": {
  "kernelspec": {
   "display_name": "pyBenchZKML-ufNPUq4Y",
   "language": "python",
   "name": "python3"
  },
  "language_info": {
   "codemirror_mode": {
    "name": "ipython",
    "version": 3
   },
   "file_extension": ".py",
   "mimetype": "text/x-python",
   "name": "python",
   "nbconvert_exporter": "python",
   "pygments_lexer": "ipython3",
   "version": "3.11.7"
  }
 },
 "nbformat": 4,
 "nbformat_minor": 2
}
