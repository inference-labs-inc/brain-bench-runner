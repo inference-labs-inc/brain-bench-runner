{
 "cells": [
  {
   "cell_type": "markdown",
   "id": "2d479a73",
   "metadata": {},
   "source": [
    "# Generate a synthetic dataset"
   ]
  },
  {
   "cell_type": "code",
   "execution_count": null,
   "id": "f60750c4",
   "metadata": {},
   "outputs": [],
   "source": [
    "import numpy as np\n",
    "import os\n",
    "import matplotlib.pyplot as plt\n",
    "\n",
    "# Constants for reproducibility\n",
    "SEED = 42\n",
    "np.random.seed(SEED)\n",
    "\n",
    "\n",
    "X = np.linspace(-0.5, 0.5, 150).astype('float64')\n",
    "noise = np.random.normal(0, 0.1, len(X)).astype('float64')\n",
    "y = 2 * X + 5 + noise # y=2x+5 + error\n",
    "\n",
    "print('X values = ',X)\n",
    "print('y values = ', y)\n",
    "   \n"
   ]
  },
  {
   "cell_type": "code",
   "execution_count": null,
   "id": "fa6fc5c0",
   "metadata": {},
   "outputs": [],
   "source": [
    "plt.scatter(X,y)\n",
    "plt.xlabel('X values')\n",
    "plt.ylabel('y values')"
   ]
  },
  {
   "cell_type": "markdown",
   "id": "68a91d93",
   "metadata": {},
   "source": [
    "# Equation of a straight line \n",
    "\n",
    "<br>\n",
    "\n",
    "<img src=\"line_equation.gif\" width=\"200px\" height=\"200px\" align=\"left\">   <br><br>\n",
    "\n",
    "**y:** y values  \n",
    "**x:** x values  \n",
    "**b:** gradient  \n",
    "**a:** y intercept  \n"
   ]
  },
  {
   "cell_type": "markdown",
   "id": "4999fbae",
   "metadata": {},
   "source": [
    "# Calculating the gradient of the line of best fit\n",
    "<br>\n",
    "\n",
    "<img src=\"gradient.png\" width=\"230px\" height=\"230px\" align=\"left\">"
   ]
  },
  {
   "cell_type": "code",
   "execution_count": null,
   "id": "7fe2a45b",
   "metadata": {},
   "outputs": [],
   "source": [
    "numerator = sum((X - X.mean()) * (y - y.mean()))\n",
    "denominator = sum((X - X.mean())**2)\n",
    "\n",
    "beta = numerator / denominator\n",
    "print('The slope of regression line:', beta)"
   ]
  },
  {
   "cell_type": "markdown",
   "id": "5d126c20",
   "metadata": {},
   "source": [
    "# Calculating the y intercept\n",
    "\n",
    "<br>\n",
    "\n",
    "<img src=\"intercept.png\" width=\"150px\" height=\"150px\" align=\"left\">"
   ]
  },
  {
   "cell_type": "code",
   "execution_count": null,
   "id": "4f3979d7",
   "metadata": {},
   "outputs": [],
   "source": [
    "intercept = y.mean() - beta * X.mean()\n",
    "print('The y intercept of our regression line:', intercept)"
   ]
  },
  {
   "cell_type": "code",
   "execution_count": null,
   "id": "88c5f347",
   "metadata": {},
   "outputs": [],
   "source": [
    "# making new predictions using our model\n",
    "predicted_y_value = beta * 0.17 + intercept \n",
    "print(f'Given x=0.17 , our model predicts the corresponing y value shoud be {predicted_y_value}')"
   ]
  },
  {
   "cell_type": "code",
   "execution_count": null,
   "id": "d73113cf",
   "metadata": {},
   "outputs": [],
   "source": [
    "plt.scatter(X, y, label='Data Points')\n",
    "plt.plot(X, beta * X + intercept, color='red', label='Regression Line')\n",
    "plt.scatter(0.17,predicted_y_value, color='green', label='pred for x = 0.17 ')\n",
    "plt.xlabel('X')\n",
    "plt.ylabel('y')\n",
    "plt.title('Linear Regression')\n",
    "plt.legend()\n",
    "plt.grid(True)\n",
    "plt.show()\n",
    "\n",
    "\n",
    "print(f\"Calculated beta: {beta}\")\n",
    "print(f\"Calculated intercept: {intercept}\")\n"
   ]
  },
  {
   "cell_type": "markdown",
   "id": "07ce1abf",
   "metadata": {},
   "source": [
    "# Calculating the accuracy of our linear regression model\n",
    "\n",
    "\n"
   ]
  },
  {
   "cell_type": "code",
   "execution_count": null,
   "id": "e4a526a3",
   "metadata": {},
   "outputs": [],
   "source": [
    "y_pred = beta * X + intercept\n",
    "\n",
    "mse = np.mean((y - y_pred)**2)\n",
    "y_mean = np.mean(y)\n",
    "r_squared = 1 - np.sum((y - y_pred)**2) / np.sum((y - y_mean)**2)\n",
    "\n",
    "\n",
    "print(\"Mean Squared Error (MSE):\", mse)\n",
    "print(\"R-squared (R^2):\", r_squared)\n",
    "\n"
   ]
  },
  {
   "cell_type": "code",
   "execution_count": null,
   "id": "3be14ed6",
   "metadata": {},
   "outputs": [],
   "source": [
    "import json\n",
    "# read in ./input_json\n",
    "data = json.load(open(\"input.json\", 'r'))\n",
    "\n",
    "# convert to numpy arrays\n",
    "X = np.array(data['input_data'])"
   ]
  },
  {
   "cell_type": "markdown",
   "id": "1d2536ce",
   "metadata": {},
   "source": [
    "### Generate the x and y values in cairo and importing the neccessary libs\n",
    "\n"
   ]
  },
  {
   "cell_type": "code",
   "execution_count": null,
   "id": "c1b1057f",
   "metadata": {},
   "outputs": [],
   "source": [
    "tensor_name =['X_values']\n",
    "\n",
    "base_path = os.path.join(\"../../src\")\n",
    "\n",
    "def generate_cairo_files(data, name):\n",
    "    generated_path = os.path.join(base_path, 'generated')\n",
    "    os.makedirs(generated_path, exist_ok=True)\n",
    "\n",
    "    with open(os.path.join(generated_path, f\"{name}.cairo\"), \"w\") as f:\n",
    "            f.write(\n",
    "                \"use array::ArrayTrait;\\n\" +\n",
    "                \"use orion::operators::tensor::{FP16x16Tensor, TensorTrait, Tensor};\\n\" +\n",
    "                \"use orion::numbers::{{FixedTrait, FP16x16, FP16x16Impl}};\\n\"\n",
    "                \"\\nfn {0}() -> Tensor<FP16x16>  \".format(name) + \"{\\n\" +\n",
    "                \"    let mut shape = ArrayTrait::new();\\n\"\n",
    "            )\n",
    "            for dim in data.shape:\n",
    "                f.write(\"    shape.append({0});\\n\".format(dim))\n",
    "            f.write(\n",
    "                \"    let mut data = ArrayTrait::new();\\n\"\n",
    "            )\n",
    "            for val in np.nditer(data.flatten()):\n",
    "                f.write(\"    data.append(FixedTrait::new({0}, {1} ));\\n\".format(abs(int(val * 2**16)), str(val < 0).lower()))\n",
    "            f.write(\n",
    "                \"let tensor = TensorTrait::<FP16x16>::new(shape.span(), data.span()); \\n \\n\" +\n",
    "                \"return tensor;\\n\\n\"+\n",
    "                \"}\\n\"\n",
    "            )\n",
    "    with open(os.path.join(base_path, 'generated.cairo'), 'w') as f:\n",
    "        for param_name in tensor_name:\n",
    "            f.write(f\"mod {param_name};\\n\")"
   ]
  },
  {
   "cell_type": "code",
   "execution_count": null,
   "id": "e1f168e7",
   "metadata": {},
   "outputs": [],
   "source": [
    "generate_cairo_files(X, 'X_values')"
   ]
  },
  {
   "cell_type": "markdown",
   "id": "31671139",
   "metadata": {},
   "source": [
    "## Building our OLS functions in cairo using Orion lib"
   ]
  },
  {
   "cell_type": "code",
   "execution_count": null,
   "id": "c7204a1b",
   "metadata": {},
   "outputs": [],
   "source": [
    "! touch ../../src/lin_reg_func.cairo"
   ]
  },
  {
   "cell_type": "code",
   "execution_count": null,
   "id": "4c0b8e16",
   "metadata": {},
   "outputs": [],
   "source": [
    "%%writefile ../../src/lin_reg_func.cairo\n",
    "\n",
    "use orion::operators::tensor::{Tensor, TensorTrait, FP16x16Tensor};\n",
    "use orion::numbers::{FP16x16, FixedTrait};\n",
    "\n",
    "/// Predicts the y values using the provided x values and computed beta and intercept.\n",
    "fn predict_y_values(\n",
    "    betas: Tensor<FP16x16>, x_values: Tensor<FP16x16>, intercept: FP16x16\n",
    ") -> Tensor<FP16x16> {\n",
    "\n",
    "    // create a tensor to hold all the y_pred values\n",
    "    let mut y_pred_shape = array::ArrayTrait::new();\n",
    "    y_pred_shape.append(x_values.data.len());\n",
    "\n",
    "    let mut y_pred_vals = array::ArrayTrait::new();\n",
    "\n",
    "    let mut i: u32 = 0;\n",
    "    loop {\n",
    "        if i >=x_values.data.len() {\n",
    "            break ();\n",
    "        }\n",
    "        // (*x_values.data.at(i)).print();\n",
    "        // TODO figure out how to elementwise multiply a tensor here using Orion.\n",
    "        // If not add another for loop to do the elementwise multiplication.\n",
    "        let mut predicted_value = FixedTrait::new(0, true);\n",
    "        let mut j: u32 = 0;\n",
    "        loop {\n",
    "            if j >= betas.data.len() {\n",
    "                break ();\n",
    "            }\n",
    "            predicted_value = *betas.data.at(j) * *x_values.data.at(j) + predicted_value;\n",
    "            j += 1;\n",
    "        };\n",
    "       \n",
    "        y_pred_vals.append(predicted_value + intercept);\n",
    "        i += 1;\n",
    "    };\n",
    "\n",
    "    let y_pred_tensor = TensorTrait::<FP16x16>::new(y_pred_shape.span(), y_pred_vals.span());\n",
    "\n",
    "    return y_pred_tensor;\n",
    "}"
   ]
  },
  {
   "cell_type": "markdown",
   "id": "cdc968d1",
   "metadata": {},
   "source": [
    "## Running tests on our model"
   ]
  },
  {
   "cell_type": "code",
   "execution_count": null,
   "id": "6951e1e4",
   "metadata": {},
   "outputs": [],
   "source": [
    "! touch ../../src/test.cairo"
   ]
  },
  {
   "cell_type": "code",
   "execution_count": null,
   "id": "cd53bcfb",
   "metadata": {},
   "outputs": [],
   "source": [
    "%%writefile ../../src/test.cairo\n",
    "use debug::PrintTrait;\n",
    "\n",
    "use giza::generated::X_values::X_values;\n",
    "use giza::lin_reg_func::predict_y_values;\n",
    "use orion::operators::tensor::{Tensor, TensorTrait, FP16x16Tensor};\n",
    "use orion::numbers::{FP16x16, FixedTrait};\n",
    "\n",
    "\n",
    "#[test]\n",
    "#[available_gas(99999999999999999)]\n",
    "fn linear_regression_test() {\n",
    "    // Fetching the x\n",
    "    let x_values = X_values();\n",
    "    // precompute the betas (same betas used for ezkl and cairo)\n",
    "    let mut data = ArrayTrait::new();\n",
    "    data.append(FixedTrait::new(1, false ));\n",
    "    data.append(FixedTrait::new(2, false ));\n",
    "    let betas = TensorTrait::<FP16x16>::new(shape: array![1, 2].span(), data: data.span());\n",
    "    let intercept = FixedTrait::new(3, false);\n",
    "\n",
    "    let y_pred = predict_y_values(betas, x_values, intercept);\n",
    "}\n"
   ]
  },
  {
   "cell_type": "code",
   "execution_count": null,
   "metadata": {},
   "outputs": [],
   "source": [
    "%%writefile ../../src/lib.cairo\n",
    "\n",
    "mod generated;\n",
    "mod lin_reg_func;\n",
    "mod test;"
   ]
  },
  {
   "cell_type": "markdown",
   "metadata": {},
   "source": [
    "### Run test"
   ]
  },
  {
   "cell_type": "code",
   "execution_count": null,
   "id": "ae8a18aa",
   "metadata": {},
   "outputs": [],
   "source": [
    "import subprocess\n",
    "import time\n",
    "\n",
    "# Start the timer\n",
    "start_time = time.perf_counter()\n",
    "\n",
    "# Run the command\n",
    "result = subprocess.run([\"scarb\", \"cairo-test\", \"-f\", \"linear_regression_test\"], capture_output=True, text=True)\n",
    "\n",
    "if result.returncode != 0:\n",
    "    print(\"Error in subprocess:\")\n",
    "    print(result.stderr)\n",
    "    exit(1)\n",
    "\n",
    "# Stop the timer\n",
    "end_time = time.perf_counter()\n",
    "\n",
    "# Calculate the elapsed time\n",
    "proving_time = end_time - start_time\n",
    "\n",
    "# define the path that stores the benchmarking results\n",
    "benchmark_path = os.path.join('../../benchmarks.json')\n",
    "\n",
    "# check that a benchmark path exists. If not, create one. Otherwise, load the existing one\n",
    "if not os.path.isfile(benchmark_path):\n",
    "    data = {\n",
    "        \"linear_regression\": {\n",
    "            \"orion\": {\n",
    "                \"provingTime\": proving_time\n",
    "            },\n",
    "            \"riscZero\": {}\n",
    "        }\n",
    "    }\n",
    "    with open(benchmark_path, 'w') as f:\n",
    "        json.dump(data, open(benchmark_path, 'w'))\n",
    "else:\n",
    "    with open(benchmark_path, 'r') as f:\n",
    "        benchmark = json.load(f)\n",
    "\n",
    "    proving_time =str(proving_time) + \"s\"\n",
    "\n",
    "    # Update the proving time in the loaded benchmark\n",
    "    benchmark['linear_regressions']['orion']['provingTime'] = proving_time\n",
    "    \n",
    "\n",
    "    # Write the updated benchmark back to the file\n",
    "    with open(benchmark_path, 'w') as f:\n",
    "        json.dump(benchmark, f, indent=4)\n",
    "\n",
    "# Print the result (optional)\n",
    "print(f\"Command executed in {proving_time} seconds\")\n"
   ]
  }
 ],
 "metadata": {
  "kernelspec": {
   "display_name": "Python 3 (ipykernel)",
   "language": "python",
   "name": "python3"
  },
  "language_info": {
   "codemirror_mode": {
    "name": "ipython",
    "version": 3
   },
   "file_extension": ".py",
   "mimetype": "text/x-python",
   "name": "python",
   "nbconvert_exporter": "python",
   "pygments_lexer": "ipython3",
   "version": "3.9.13"
  }
 },
 "nbformat": 4,
 "nbformat_minor": 5
}
