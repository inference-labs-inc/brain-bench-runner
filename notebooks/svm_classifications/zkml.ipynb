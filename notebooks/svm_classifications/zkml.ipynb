{
 "cells": [
  {
   "cell_type": "markdown",
   "metadata": {},
   "source": [
    "# SVM Classifier with ZKML"
   ]
  },
  {
   "cell_type": "markdown",
   "metadata": {},
   "source": [
    "## Create and export model via TF -> TFLite"
   ]
  },
  {
   "cell_type": "code",
   "execution_count": null,
   "metadata": {},
   "outputs": [],
   "source": [
    "# check if notebook is in colab\n",
    "try:\n",
    "    # install ezkl\n",
    "    import google.colab\n",
    "    import subprocess\n",
    "    import sys\n",
    "\n",
    "    subprocess.check_call([sys.executable, \"-m\", \"pip\", \"install\", \"ezkl\"])\n",
    "    subprocess.check_call([sys.executable, \"-m\", \"pip\", \"install\", \"onnx\"])\n",
    "    subprocess.check_call([sys.executable, \"-m\", \"pip\", \"install\", \"sk2torch\"])\n",
    "\n",
    "# rely on local installation of ezkl if the notebook is not in colab\n",
    "except:\n",
    "    pass\n",
    "\n",
    "\n",
    "# here we create and (potentially train a model)\n",
    "\n",
    "# make sure you have the dependencies required here already installed\n",
    "import json\n",
    "import numpy as np\n",
    "from sklearn import datasets\n",
    "import sk2torch\n",
    "import torch\n",
    "import ezkl\n",
    "import os\n",
    "import tensorflow as tf\n",
    "from tensorflow import keras\n",
    "from tensorflow.keras import layers\n",
    "sys.path.insert(0, \"../../..\")\n",
    "from zkml.python.converter import Converter\n",
    "\n",
    "CKPT_PATH = os.path.join(os.getcwd(), \"svm\")\n",
    "TFLITE_PATH = os.path.join(os.getcwd(), \"svm.tflite\")\n",
    "OUT_MODEL_PATH = os.path.join(os.getcwd(), \"svm.msgpack\")\n",
    "OUT_INPUT_NPY_PATH = os.path.join(os.getcwd(), \"svm_input.npy\")\n",
    "OUT_INPUT_PATH = os.path.join(os.getcwd(), \"svm_input.msgpack\")\n",
    "OUT_CONFIG_PATH = os.path.join(os.getcwd(), \"svm_config.json\")\n",
    "iris = datasets.load_iris()\n",
    "x_vals = np.array([[x[0], x[3]] for x in iris.data])\n",
    "y_vals = np.array([1 if y == 0 else -1 for y in iris.target])\n",
    "setosa_x = [d[1] for i, d in enumerate(x_vals) if y_vals[i] == 1]\n",
    "setosa_y = [d[0] for i, d in enumerate(x_vals) if y_vals[i] == 1]\n",
    "not_setosa_x = [d[1] for i, d in enumerate(x_vals) if y_vals[i] == -1]\n",
    "not_setosa_y = [d[0] for i, d in enumerate(x_vals) if y_vals[i] == -1]\n",
    "train_indices = np.random.choice(len(x_vals), round(len(x_vals) * 0.8), replace=False)\n",
    "test_indices = np.array(list(set(range(len(x_vals))) - set(train_indices)))\n",
    "x_vals_train = x_vals[train_indices]\n",
    "x_vals_test = x_vals[test_indices]\n",
    "y_vals_train = y_vals[train_indices]\n",
    "y_vals_test = y_vals[test_indices]\n",
    "\n",
    "model = keras.Sequential([layers.Dense(1, input_shape=(2,), activation=\"linear\")])\n",
    "\n",
    "model.compile(\n",
    "    optimizer=keras.optimizers.legacy.SGD(learning_rate=0.01),\n",
    "    loss=\"hinge\",\n",
    "    metrics=[\"accuracy\"],\n",
    ")\n",
    "\n",
    "history = model.fit(\n",
    "    x_vals_train,\n",
    "    y_vals_train,\n",
    "    batch_size=100,\n",
    "    epochs=500,\n",
    "    validation_data=(x_vals_test, y_vals_test),\n",
    ")\n",
    "\n",
    "# Export model in TensorFlow's .pb format with 'serving_default' signature\n",
    "model.save(\"exported_model\")\n",
    "\n",
    "# Convert the TensorFlow model to TensorFlow Lite format\n",
    "converter = tf.lite.TFLiteConverter.from_saved_model(\"exported_model\")\n",
    "tflite_model = converter.convert()"
   ]
  },
  {
   "cell_type": "markdown",
   "metadata": {},
   "source": [
    "## Convert model to msgpack using ZKML"
   ]
  },
  {
   "cell_type": "code",
   "execution_count": null,
   "metadata": {},
   "outputs": [],
   "source": [
    "converter = Converter(model_path=TFLITE_PATH, expose_output=False, commit=False, scale_factor=1, k=9, num_cols=2, num_randoms=6, use_selectors=True)\n",
    "\n",
    "model_packed, config_packed = converter.to_msgpack(\n",
    "  start_layer=0,\n",
    "  end_layer=10000,\n",
    ")\n",
    "if model_packed is None:\n",
    "  raise Exception('Failed to convert model')\n",
    "with open(OUT_MODEL_PATH, 'wb') as f:\n",
    "  f.write(model_packed)\n",
    "with open(OUT_CONFIG_PATH, 'wb') as f:\n",
    "  f.write(config_packed)"
   ]
  },
  {
   "cell_type": "markdown",
   "metadata": {},
   "source": [
    "## Create msgpack from input"
   ]
  },
  {
   "cell_type": "code",
   "execution_count": null,
   "metadata": {},
   "outputs": [],
   "source": [
    "with open (OUT_INPUT_NPY_PATH, 'wb') as f:\n",
    "    np.save(f, np.array(x_vals[0]).reshape(-1, 1))\n",
    "\n",
    "!python {INPUT_CONVERTER_PATH} --model_config {OUT_MODEL_PATH} --inputs {OUT_INPUT_NPY_PATH} --output {OUT_INPUT_MSG_PATH}\n"
   ]
  },
  {
   "cell_type": "markdown",
   "metadata": {},
   "source": [
    "## Generate the proof"
   ]
  },
  {
   "cell_type": "code",
   "execution_count": null,
   "metadata": {},
   "outputs": [],
   "source": [
    "!../../src/zkml/target/release/time_circuit {OUT_MODEL_PATH} {OUT_INPUT_MSG_PATH} kzg\n",
    "#!../../src/zkml/target/release/test_circuit {OUT_MODEL_PATH} {OUT_INPUT_MSG_PATH} kzg\n"
   ]
  }
 ],
 "metadata": {
  "kernelspec": {
   "display_name": "pyBenchZKML-ufNPUq4Y",
   "language": "python",
   "name": "python3"
  },
  "language_info": {
   "codemirror_mode": {
    "name": "ipython",
    "version": 3
   },
   "file_extension": ".py",
   "mimetype": "text/x-python",
   "name": "python",
   "nbconvert_exporter": "python",
   "pygments_lexer": "ipython3",
   "version": "3.11.7"
  }
 },
 "nbformat": 4,
 "nbformat_minor": 2
}
