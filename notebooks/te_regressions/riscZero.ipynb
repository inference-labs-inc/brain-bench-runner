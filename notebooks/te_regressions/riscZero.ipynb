{
 "cells": [
  {
   "cell_type": "markdown",
   "id": "d764f850",
   "metadata": {},
   "source": [
    "Copyright 2023 RISC Zero, Inc.\n",
    "\n",
    " Licensed under the Apache License, Version 2.0 (the \"License\");\n",
    "you may not use this file except in compliance with the License.\n",
    "You may obtain a copy of the License at\n",
    "\n",
    "    http://www.apache.org/licenses/LICENSE-2.0\n",
    "\n",
    " Unless required by applicable law or agreed to in writing, software\n",
    " distributed under the License is distributed on an \"AS IS\" BASIS,\n",
    " WITHOUT WARRANTIES OR CONDITIONS OF ANY KIND, either express or implied.\n",
    " See the License for the specific language governing permissions and\n",
    " limitations under the License."
   ]
  },
  {
   "cell_type": "markdown",
   "id": "84ca40bd-02b8-4662-9ced-676b54962ae3",
   "metadata": {},
   "source": [
    "The following notebook is meant to serve as a guide for training classifiers and regression models using the SmartCore crate.  Prior to training the classifier in Rust, the data should be processed in Python.  The data and classes should be exported as seperate CSV files.\n",
    "\n",
    "Start by importing the Smartcore and Polars crates as dependencies.  Outside of a jupyter notebook environment, you can add these to your cargo.toml file or use cargo add \"CRATE-NAME\" in the command line.\n",
    "\n",
    "Be sure to include serde as a feature for the smartcore crate, otherwise the Smartcore CSV readers will not work."
   ]
  },
  {
   "cell_type": "code",
   "execution_count": null,
   "id": "c7c3dabf-0d74-4e36-bacb-ae7c0c8b8ea2",
   "metadata": {
    "vscode": {
     "languageId": "rust"
    }
   },
   "outputs": [],
   "source": [
    ":dep smartcore = {version = \"0.3.2\", features = [\"serde\"]}\n",
    ":dep polars = \"*\"\n",
    ":dep serde_json = \"1.0\"\n",
    ":dep rmp-serde = \"1.1.2\"\n",
    ":dep ndarray = \"0.15\""
   ]
  },
  {
   "cell_type": "code",
   "execution_count": null,
   "id": "63ed67bf-e3cf-4f08-b253-b155f9d6f865",
   "metadata": {
    "vscode": {
     "languageId": "rust"
    }
   },
   "outputs": [],
   "source": [
    "use smartcore::linalg::basic::matrix::DenseMatrix;\n",
    "use smartcore::ensemble::random_forest_regressor::*;\n",
    "use smartcore::readers;\n",
    "use ndarray::array;\n",
    "\n",
    "use std::fs::File;\n",
    "use std::io::{Read, Write};\n",
    "use polars::prelude::*;\n",
    "use serde_json;\n",
    "use rmp_serde;"
   ]
  },
  {
   "cell_type": "code",
   "execution_count": null,
   "id": "216ed280",
   "metadata": {
    "vscode": {
     "languageId": "rust"
    }
   },
   "outputs": [],
   "source": [
    "// Example data\n",
    "let x = DenseMatrix::from_2d_array(&[\n",
    "    &[1.0, 1.0],\n",
    "    &[1.0, 2.0],\n",
    "    &[2.0, 2.0],\n",
    "    &[2.0, 3.0],\n",
    "    &[3.0, 3.0],\n",
    "    &[4.0, 4.0],\n",
    "    &[6.0, 8.0],\n",
    "]);\n",
    "let y = array![6,8,9,11,12,15,25];\n",
    "\n",
    "let y_vec_i64: Vec<i64> = y.to_vec();\n",
    "\n",
    "let y_vec_u32: Vec<u32> = y_vec_i64.iter().map(|x| *x as u32).collect();"
   ]
  },
  {
   "cell_type": "markdown",
   "id": "9e278ff1-7769-4a45-9d37-eb119ee7f7c6",
   "metadata": {},
   "source": [
    "Now, we can train the model using our desired classifier.  "
   ]
  },
  {
   "cell_type": "code",
   "execution_count": null,
   "id": "504399a1-4d6a-4f41-ae53-fd0021b49b17",
   "metadata": {
    "vscode": {
     "languageId": "rust"
    }
   },
   "outputs": [],
   "source": [
    "let params = RandomForestRegressorParameters::default().with_n_trees(1).with_m(42);\n",
    "\n",
    "let model = RandomForestRegressor::fit(&x, &y_vec_u32, params).unwrap();"
   ]
  },
  {
   "cell_type": "markdown",
   "id": "f18a14b2-7e40-440d-bcef-12ebd5c77de6",
   "metadata": {},
   "source": [
    "We call predict() on the model in order to perform inference."
   ]
  },
  {
   "cell_type": "code",
   "execution_count": null,
   "id": "e6bd2dec-b2af-40fb-81cd-5a89addb8d97",
   "metadata": {
    "vscode": {
     "languageId": "rust"
    }
   },
   "outputs": [],
   "source": [
    "// Create DenseMatrix from the first element in the input array\n",
    "let input = DenseMatrix::from_2d_array(\n",
    "    &[\n",
    "        &[1.0,1.0],\n",
    "    ]\n",
    ");\n",
    "\n",
    "model.predict(\n",
    "    &input\n",
    ").unwrap()"
   ]
  },
  {
   "cell_type": "markdown",
   "id": "c1c395a8-72b8-467b-b027-f803f144e379",
   "metadata": {},
   "source": [
    "Model training can be performed in the host code, but you can also import a serialized pre-trained model from a JSON, YAML, or ProtoBuf file.  \n",
    "\n",
    "The code below let's you export the trained model and the input data as serialized JSON files which can be imported into the host.\n",
    "\n",
    "For use in the ZKVM, serializing the model and input data as a byte array is ideal.  The code below exports the trained model and input data as byte arrays in JSON files."
   ]
  },
  {
   "cell_type": "code",
   "execution_count": null,
   "id": "73f0cb74-23d5-4831-8589-449df4dd5718",
   "metadata": {
    "vscode": {
     "languageId": "rust"
    }
   },
   "outputs": [],
   "source": [
    "let model_bytes = rmp_serde::to_vec(&model).unwrap();\n",
    "let data_bytes = rmp_serde::to_vec(&input).unwrap();\n",
    "\n",
    "let model_json = serde_json::to_string(&model_bytes)?;\n",
    "let x_json = serde_json::to_string(&data_bytes)?;\n",
    "\n",
    "let mut f = File::create(\"../../res/ml-model/te_regression_model_bytes.json\").expect(\"unable to create file\");\n",
    "f.write_all(model_json.as_bytes()).expect(\"Unable to write data\");\n",
    "\n",
    "let mut f1 = File::create(\"../../res/input-data/te_regression_data_bytes.json\").expect(\"unable to create file\");\n",
    "f1.write_all(x_json.as_bytes()).expect(\"Unable to write data\");"
   ]
  }
 ],
 "metadata": {
  "kernelspec": {
   "display_name": "Rust",
   "language": "rust",
   "name": "rust"
  },
  "language_info": {
   "codemirror_mode": "rust",
   "file_extension": ".rs",
   "mimetype": "text/rust",
   "name": "Rust",
   "pygment_lexer": "rust",
   "version": ""
  }
 },
 "nbformat": 4,
 "nbformat_minor": 5
}
