{
 "cells": [
  {
   "cell_type": "markdown",
   "metadata": {},
   "source": [
    "# TE Regressions with ZKML"
   ]
  },
  {
   "cell_type": "markdown",
   "metadata": {},
   "source": [
    "## Create and export model via TF -> TFLite"
   ]
  },
  {
   "cell_type": "code",
   "execution_count": null,
   "metadata": {},
   "outputs": [],
   "source": [
    "# check if notebook is in colab\n",
    "try:\n",
    "    # install ezkl\n",
    "    import google.colab\n",
    "    import subprocess\n",
    "    import sys\n",
    "\n",
    "    subprocess.check_call([sys.executable, \"-m\", \"pip\", \"install\", \"ezkl\"])\n",
    "    subprocess.check_call([sys.executable, \"-m\", \"pip\", \"install\", \"onnx\"])\n",
    "    subprocess.check_call([sys.executable, \"-m\", \"pip\", \"install\", \"sk2torch\"])\n",
    "\n",
    "# rely on local installation of ezkl if the notebook is not in colab\n",
    "except:\n",
    "    pass\n",
    "\n",
    "\n",
    "# here we create and (potentially train a model)\n",
    "\n",
    "# make sure you have the dependencies required here already installed\n",
    "import json\n",
    "import sys\n",
    "import numpy as np\n",
    "from sklearn import datasets\n",
    "import sk2torch\n",
    "import torch\n",
    "import ezkl\n",
    "import os\n",
    "import tensorflow as tf\n",
    "from tensorflow import keras\n",
    "from tensorflow.keras import layers\n",
    "sys.path.insert(0, \"../../..\")\n",
    "from zkml.python.converter import Converter\n",
    "\n",
    "CKPT_PATH = os.path.join(os.getcwd(), \"svm\")\n",
    "TFLITE_PATH = os.path.join(os.getcwd(), \"svm.tflite\")\n",
    "OUT_MODEL_PATH = os.path.join(os.getcwd(), \"svm.msgpack\")\n",
    "OUT_CONFIG_PATH = os.path.join(os.getcwd(), \"svm_config.json\")\n",
    "OUT_INPUT_NPY_PATH = os.path.join(os.getcwd(), \"svm_input.npy\")\n",
    "OUT_INPUT_MSG_PATH = os.path.join(os.getcwd(), \"svm_input.msgpack\")\n",
    "INPUT_CONVERTER_PATH = os.path.join(\n",
    "    os.getcwd(), \"../../src/zkml/python/input_converter.py\"\n",
    ")\n",
    "\n",
    "X = np.array([[1, 1], [1, 2], [2, 2], [2, 3], [3, 3], [4, 4], [6, 8]])\n",
    "y = np.dot(X, np.array([1, 2])) + 3  # y = 1 * x_0 + 2 * x_1 + 3\n",
    "\n",
    "# Define and train the model\n",
    "# This is a simple NN regression model. It isn't possible to implement a random forest regressor in Keras / TFLite.\n",
    "model = keras.Sequential([\n",
    "    layers.Dense(64, activation='relu', input_shape=(2,)),\n",
    "    layers.Dense(64, activation='relu'),\n",
    "    layers.Dense(1)\n",
    "])\n",
    "\n",
    "model.compile(optimizer='adam', loss='mse')\n",
    "model.fit(X, y, epochs=10, batch_size=1)\n",
    "\n",
    "# Convert the model to TensorFlow Lite\n",
    "converter = tf.lite.TFLiteConverter.from_keras_model(model)\n",
    "tflite_model = converter.convert()\n",
    "\n",
    "# Save the TFLite model\n",
    "with open(TFLITE_PATH, 'wb') as f:\n",
    "    f.write(tflite_model)"
   ]
  },
  {
   "cell_type": "markdown",
   "metadata": {},
   "source": [
    "## Convert model to msgpack using ZKML"
   ]
  },
  {
   "cell_type": "code",
   "execution_count": null,
   "metadata": {},
   "outputs": [],
   "source": [
    "converter = Converter(model_path=TFLITE_PATH, expose_output=False, commit=False, scale_factor=1, k=9, num_cols=2, num_randoms=6, use_selectors=True)\n",
    "\n",
    "model_packed, config_packed = converter.to_msgpack(\n",
    "  start_layer=0,\n",
    "  end_layer=10000,\n",
    ")\n",
    "if model_packed is None:\n",
    "  raise Exception('Failed to convert model')\n",
    "with open(OUT_MODEL_PATH, 'wb') as f:\n",
    "  f.write(model_packed)\n",
    "with open(OUT_CONFIG_PATH, 'wb') as f:\n",
    "  f.write(config_packed)"
   ]
  },
  {
   "cell_type": "markdown",
   "metadata": {},
   "source": [
    "## Create msgpack from input"
   ]
  },
  {
   "cell_type": "code",
   "execution_count": null,
   "metadata": {},
   "outputs": [],
   "source": [
    "with open (OUT_INPUT_NPY_PATH, 'wb') as f:\n",
    "    np.save(f, np.array(X[0]).reshape(-1, 1))\n",
    "\n",
    "!python {INPUT_CONVERTER_PATH} --model_config {OUT_MODEL_PATH} --inputs {OUT_INPUT_NPY_PATH} --output {OUT_INPUT_MSG_PATH}\n"
   ]
  },
  {
   "cell_type": "markdown",
   "metadata": {},
   "source": [
    "## Generate the proof"
   ]
  },
  {
   "cell_type": "code",
   "execution_count": null,
   "metadata": {},
   "outputs": [],
   "source": [
    "!../../src/zkml/target/release/time_circuit {OUT_MODEL_PATH} {OUT_INPUT_MSG_PATH} kzg\n"
   ]
  }
 ],
 "metadata": {
  "kernelspec": {
   "display_name": "pyBenchZKML-ufNPUq4Y",
   "language": "python",
   "name": "python3"
  },
  "language_info": {
   "codemirror_mode": {
    "name": "ipython",
    "version": 3
   },
   "file_extension": ".py",
   "mimetype": "text/x-python",
   "name": "python",
   "nbconvert_exporter": "python",
   "pygments_lexer": "ipython3",
   "version": "3.11.7"
  }
 },
 "nbformat": 4,
 "nbformat_minor": 2
}
