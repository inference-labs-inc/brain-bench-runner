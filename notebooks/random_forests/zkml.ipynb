{
 "cells": [
  {
   "cell_type": "markdown",
   "metadata": {},
   "source": [
    "# Random Forest with ZKML\n"
   ]
  },
  {
   "cell_type": "markdown",
   "metadata": {},
   "source": [
    "## Create and export model via TF -> TFLite"
   ]
  },
  {
   "cell_type": "code",
   "execution_count": null,
   "metadata": {},
   "outputs": [],
   "source": [
    "# check if notebook is in colab\n",
    "try:\n",
    "    import google.colab\n",
    "    import subprocess\n",
    "    import sys\n",
    "    subprocess.check_call([sys.executable, \"-m\", \"pip\", \"install\", \"onnx\"])\n",
    "    subprocess.check_call([sys.executable, \"-m\", \"pip\", \"install\", \"hummingbird-ml\"])\n",
    "except:\n",
    "    pass\n",
    "\n",
    "import tensorflow as tf\n",
    "import os\n",
    "import sys\n",
    "from sklearn.ensemble import RandomForestClassifier as Rf\n",
    "import pandas as pd\n",
    "from torch import nn\n",
    "import numpy as np\n",
    "sys.path.insert(0, \"../../..\")\n",
    "from zkml.python.converter import Converter\n",
    "from sklearn.model_selection import train_test_split\n",
    "\n",
    "MODEL_NAME=\"random_forest\"\n",
    "TFLITE_PATH = os.path.join(os.getcwd(), MODEL_NAME + \".tflite\")\n",
    "OUT_MODEL_PATH= os.path.join(os.getcwd(), MODEL_NAME + \"_model.msgpack\")\n",
    "OUT_CONFIG_PATH= os.path.join(os.getcwd(), MODEL_NAME + \"_config.json\")\n",
    "OUT_INPUT_NPY_PATH= os.path.join(os.getcwd(), MODEL_NAME + \"_input.npy\")\n",
    "OUT_INPUT_MSG_PATH = os.path.join(os.getcwd(), MODEL_NAME + \"_input.msgpack\")\n",
    "PB_PATH = os.path.join(os.getcwd(), MODEL_NAME + \".pb\")\n",
    "ONNX_PATH = os.path.join(os.getcwd(), MODEL_NAME + \".onnx\")\n",
    "INPUT_CONVERTER_PATH = os.path.join(os.getcwd(), \"../../src/zkml/python/input_converter.py\")\n",
    "TIME_CIRCUIT_PATH= os.path.join(os.getcwd(), \"../../src/zkml/target/release/time_circuit\")\n",
    "filepath_iris_input = \"iris_input_data.csv\"\n",
    "filepath_iris_classes = \"iris_classes.csv\"\n",
    "# Install TF-DF\n",
    "%pip install tensorflow tensorflow_decision_forests\n",
    "\n",
    "# Load TF-DF\n",
    "import tensorflow_decision_forests as tfdf\n",
    "import pandas as pd\n",
    "\n",
    "# Load a dataset in a Pandas dataframe.\n",
    "iris_data = pd.read_csv(filepath_iris_input).values.astype(np.float32)\n",
    "iris_labels = pd.read_csv(filepath_iris_classes).squeeze().values\n",
    "\n",
    "# Split the dataset into training and testing datasets\n",
    "X_train, X_test, y_train, y_test = train_test_split(iris_data, iris_labels)\n",
    "# Convert X_train and X_test to pandas DataFrames\n",
    "X_train = pd.DataFrame(X_train, columns=[\"sepal.length\", \"sepal.width\", \"petal.length\", \"petal.width\"])\n",
    "X_train['variety'] = y_train\n",
    "X_test = pd.DataFrame(X_test, columns=[\"sepal.length\", \"sepal.width\", \"petal.length\", \"petal.width\"])\n",
    "X_test['variety'] = y_test\n",
    "\n",
    "\n",
    "# Convert the dataset into a TensorFlow dataset.\n",
    "train_ds = tfdf.keras.pd_dataframe_to_tf_dataset(X_train, label=\"variety\")\n",
    "test_ds = tfdf.keras.pd_dataframe_to_tf_dataset(X_test, label=\"variety\")\n",
    "\n",
    "# Train a Random Forest model.\n",
    "model = tfdf.keras.RandomForestModel()\n",
    "model.fit(train_ds)\n",
    "\n",
    "# Summary of the model structure.\n",
    "model.summary()\n",
    "\n",
    "# Evaluate the model.\n",
    "model.evaluate(test_ds)\n",
    "\n",
    "# Export the model to TFLite\n",
    "model.save(MODEL_NAME, save_format=\"tf\")\n",
    "converter = tf.lite.TFLiteConverter.from_saved_model(MODEL_NAME)\n",
    "try:\n",
    "    tflite_model = converter.convert()\n",
    "except ConverterError as e:\n",
    "    print(f\"Conversion failed with error: {e}\")\n",
    "    tflite_model = None\n",
    "\n",
    "# Save the TFLite model\n",
    "with open(TFLITE_PATH, 'wb') as f:\n",
    "    f.write(tflite_model)\n"
   ]
  },
  {
   "cell_type": "markdown",
   "metadata": {},
   "source": [
    "## Convert model to msgpack using ZKML"
   ]
  },
  {
   "cell_type": "code",
   "execution_count": null,
   "metadata": {},
   "outputs": [],
   "source": [
    "converter = Converter(model_path=TFLITE_PATH, expose_output=False, commit=False, scale_factor=7, k=6, num_cols=2, num_randoms=64, use_selectors=True)\n",
    "\n",
    "model_packed, config_packed = converter.to_msgpack(\n",
    "  start_layer=0,\n",
    "  end_layer=10000,\n",
    ")\n",
    "if model_packed is None:\n",
    "  raise Exception('Failed to convert model')\n",
    "with open(OUT_MODEL_PATH, 'wb') as f:\n",
    "  f.write(model_packed)\n",
    "with open(OUT_CONFIG_PATH, 'wb') as f:\n",
    "  f.write(config_packed)"
   ]
  },
  {
   "cell_type": "markdown",
   "metadata": {},
   "source": [
    "## Create msgpack from input"
   ]
  },
  {
   "cell_type": "code",
   "execution_count": null,
   "metadata": {},
   "outputs": [],
   "source": [
    "with open (OUT_INPUT_NPY_PATH, 'wb') as f:\n",
    "    np.save(f, np.array(x[0]).reshape(-1, 1))\n",
    "\n",
    "!python {INPUT_CONVERTER_PATH} --model_config {OUT_MODEL_PATH} --inputs {OUT_INPUT_NPY_PATH} --output {OUT_INPUT_MSG_PATH}\n"
   ]
  },
  {
   "cell_type": "markdown",
   "metadata": {},
   "source": [
    "## Generate the proof"
   ]
  },
  {
   "cell_type": "code",
   "execution_count": null,
   "metadata": {},
   "outputs": [],
   "source": [
    "#!../../src/zkml/target/release/time_circuit {OUT_MODEL_PATH} {OUT_INPUT_MSG_PATH} kzg\n",
    "!../../src/zkml/target/release/test_circuit {OUT_MODEL_PATH} {OUT_INPUT_MSG_PATH} kzg\n"
   ]
  }
 ],
 "metadata": {
  "kernelspec": {
   "display_name": "pyBenchZKML-ufNPUq4Y",
   "language": "python",
   "name": "python3"
  },
  "language_info": {
   "codemirror_mode": {
    "name": "ipython",
    "version": 3
   },
   "file_extension": ".py",
   "mimetype": "text/x-python",
   "name": "python",
   "nbconvert_exporter": "python",
   "pygments_lexer": "ipython3",
   "version": "3.11.7"
  }
 },
 "nbformat": 4,
 "nbformat_minor": 2
}
